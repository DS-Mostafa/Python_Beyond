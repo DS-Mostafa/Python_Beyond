{
 "cells": [
  {
   "cell_type": "markdown",
   "id": "333396a8",
   "metadata": {},
   "source": [
    "# Lambda Functions\n",
    "* **Python Lambda Functions are anonymous function means that the function is without a name. **\n",
    "* As we already know that the def keyword is used to define a normal function in Python. \n",
    "* Similarly, the lambda keyword is used to define an anonymous function in Python. "
   ]
  },
  {
   "cell_type": "markdown",
   "id": "fd0fa441",
   "metadata": {},
   "source": [
    "### The Syntax \n",
    "lambda arguments: expression\n",
    "\n",
    "* This function can have any number of arguments but only one expression, which is evaluated and returned.\n",
    "* One is free to use lambda functions wherever function objects are required.\n",
    "* You need to keep in your knowledge that lambda functions are syntactically restricted to a single expression.\n",
    "* It has various uses in particular fields of programming besides other types of expressions in functions."
   ]
  },
  {
   "cell_type": "code",
   "execution_count": 12,
   "id": "902674c9",
   "metadata": {
    "scrolled": true
   },
   "outputs": [
    {
     "name": "stdout",
     "output_type": "stream",
     "text": [
      "<function <lambda> at 0x0000024E36494550>\n"
     ]
    }
   ],
   "source": [
    "fruit = \"apple\"\n",
    "print((lambda fruit : fruit + \" & banana\"))"
   ]
  },
  {
   "cell_type": "markdown",
   "id": "ddf58345",
   "metadata": {},
   "source": [
    "##### The previous exampel prints the function and the memory location where it's stored, so like other functions to get the value returned we call the function to pass the argument to it as follows :\n",
    "\n",
    "print(function(argumenr)\n",
    "\n",
    "function = (lambda fruit : fruit + \" & banana\")"
   ]
  },
  {
   "cell_type": "code",
   "execution_count": 13,
   "id": "961d98a8",
   "metadata": {
    "scrolled": true
   },
   "outputs": [
    {
     "name": "stdout",
     "output_type": "stream",
     "text": [
      "apple & banana\n"
     ]
    }
   ],
   "source": [
    "print ((lambda fruit : fruit + \" & banana\")(fruit))"
   ]
  },
  {
   "cell_type": "markdown",
   "id": "96931429",
   "metadata": {},
   "source": [
    " This is  the same as doing the following:"
   ]
  },
  {
   "cell_type": "code",
   "execution_count": 14,
   "id": "3d4199b2",
   "metadata": {},
   "outputs": [
    {
     "name": "stdout",
     "output_type": "stream",
     "text": [
      "apple & banana\n"
     ]
    }
   ],
   "source": [
    "add_banana= (lambda fruit : fruit + \" & banana\")\n",
    "print(add_banana(fruit))\n"
   ]
  },
  {
   "cell_type": "markdown",
   "id": "92e3f4aa",
   "metadata": {},
   "source": [
    "#### we can concatenate a string with another by using lambda function"
   ]
  },
  {
   "cell_type": "code",
   "execution_count": 7,
   "id": "0fe2931c",
   "metadata": {},
   "outputs": [
    {
     "data": {
      "text/plain": [
       "'ahmed!!!!'"
      ]
     },
     "execution_count": 7,
     "metadata": {},
     "output_type": "execute_result"
    }
   ],
   "source": [
    "name = \"ahmed\"\n",
    "\n",
    "shout = (lambda name : name + \"!!!!\")\n",
    "\n",
    "shout(name)"
   ]
  },
  {
   "cell_type": "markdown",
   "id": "3eaab794",
   "metadata": {},
   "source": [
    "* the type of the variable shout is a function as a lambda function is assigned to it \n",
    "* the type of the returned value from inside the lambda function is a string "
   ]
  },
  {
   "cell_type": "code",
   "execution_count": 11,
   "id": "03e06236",
   "metadata": {},
   "outputs": [
    {
     "name": "stdout",
     "output_type": "stream",
     "text": [
      "<class 'function'>\n",
      "<class 'str'>\n"
     ]
    }
   ],
   "source": [
    "# check the type of the lambda function stored in the variable\n",
    "\n",
    "print(type(shout))\n",
    "\n",
    "print(type(shout(name)))"
   ]
  },
  {
   "cell_type": "markdown",
   "id": "12aa692e",
   "metadata": {},
   "source": [
    "## Examples where lambda functions are useful\n"
   ]
  },
  {
   "cell_type": "markdown",
   "id": "452b1ea5",
   "metadata": {},
   "source": [
    "### With List Comprehension"
   ]
  },
  {
   "cell_type": "code",
   "execution_count": 17,
   "id": "db3110d5",
   "metadata": {},
   "outputs": [
    {
     "name": "stdout",
     "output_type": "stream",
     "text": [
      "10\n",
      "20\n",
      "30\n",
      "40\n",
      "50\n",
      "60\n",
      "70\n",
      "80\n",
      "90\n",
      "100\n"
     ]
    }
   ],
   "source": [
    "tables = [lambda x=x: x*10 for x in range(1,11)]\n",
    "\n",
    "for table in tables:\n",
    "    print(table())  # if u write print(table), a list with functions will be printed"
   ]
  },
  {
   "cell_type": "markdown",
   "id": "ef7bce5b",
   "metadata": {},
   "source": [
    "### with if else statment\n",
    "\n",
    "**note that ----> lambda function only takes a single expression**\n",
    "\n",
    "a function that compares two numbers and returns the greater of them"
   ]
  },
  {
   "cell_type": "code",
   "execution_count": 22,
   "id": "031dbd89",
   "metadata": {},
   "outputs": [
    {
     "name": "stdout",
     "output_type": "stream",
     "text": [
      "10\n",
      "-3\n"
     ]
    }
   ],
   "source": [
    "max_num = lambda x,y : x if x>y else y\n",
    "\n",
    "result_1 = max_num(5,10)\n",
    "result_2 = max_num(-3, -15)\n",
    "\n",
    "print(result_1)\n",
    "print(result_2)"
   ]
  },
  {
   "cell_type": "markdown",
   "id": "772b5387",
   "metadata": {},
   "source": [
    "### With Map() function\n",
    "it can be very useful to use lambda functions within map function"
   ]
  },
  {
   "cell_type": "code",
   "execution_count": 23,
   "id": "71f95a50",
   "metadata": {},
   "outputs": [
    {
     "data": {
      "text/plain": [
       "[3, 7, 11, 15]"
      ]
     },
     "execution_count": 23,
     "metadata": {},
     "output_type": "execute_result"
    }
   ],
   "source": [
    "numbers_1 = [2,4,6,8]\n",
    "numbers_2 = [1,3,5,7]\n",
    "\n",
    "\n",
    "add_nums = map(lambda a,b : a+b, numbers_1, numbers_2 )\n",
    "\n",
    "list(add_nums)"
   ]
  },
  {
   "cell_type": "markdown",
   "id": "e65a7052",
   "metadata": {},
   "source": [
    "### with reduce() function"
   ]
  },
  {
   "cell_type": "code",
   "execution_count": 25,
   "id": "6b83524b",
   "metadata": {},
   "outputs": [
    {
     "data": {
      "text/plain": [
       "5760"
      ]
     },
     "execution_count": 25,
     "metadata": {},
     "output_type": "execute_result"
    }
   ],
   "source": [
    "from functools import reduce\n",
    "\n",
    "nums1 = [15,51,51,66,87,98]\n",
    "nums2 = [1 ,9 ,7 ,5 ,6 ,8]\n",
    "small_cal = reduce(lambda x,y: 2*x + 3*y, nums1)\n",
    "small_cal\n"
   ]
  },
  {
   "cell_type": "markdown",
   "id": "93fcea83",
   "metadata": {},
   "source": [
    "### with accumulate function"
   ]
  },
  {
   "cell_type": "code",
   "execution_count": 26,
   "id": "33901de0",
   "metadata": {},
   "outputs": [
    {
     "data": {
      "text/plain": [
       "[15, 183, 519, 1236, 2733, 5760]"
      ]
     },
     "execution_count": 26,
     "metadata": {},
     "output_type": "execute_result"
    }
   ],
   "source": [
    "from itertools import accumulate\n",
    "\n",
    "acc= accumulate(nums1, lambda x,y: 2*x + 3*y)\n",
    "list(acc)"
   ]
  },
  {
   "cell_type": "code",
   "execution_count": null,
   "id": "514864a4",
   "metadata": {},
   "outputs": [],
   "source": []
  }
 ],
 "metadata": {
  "kernelspec": {
   "display_name": "Python 3 (ipykernel)",
   "language": "python",
   "name": "python3"
  },
  "language_info": {
   "codemirror_mode": {
    "name": "ipython",
    "version": 3
   },
   "file_extension": ".py",
   "mimetype": "text/x-python",
   "name": "python",
   "nbconvert_exporter": "python",
   "pygments_lexer": "ipython3",
   "version": "3.9.12"
  }
 },
 "nbformat": 4,
 "nbformat_minor": 5
}

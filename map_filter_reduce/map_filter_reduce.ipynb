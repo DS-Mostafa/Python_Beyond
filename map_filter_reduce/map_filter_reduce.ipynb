{
 "cells": [
  {
   "cell_type": "markdown",
   "id": "91e91b14",
   "metadata": {},
   "source": [
    "# Map() Function\n",
    "\n",
    "* Instead of using too many loops in your code you can use a map function \n",
    "* it returns a map object (an iterator) of the results after applying the passed function of each item on the iterable passed\n",
    "* map(FUNCTION,Iterable)  the function is applied on each item on the iterable and then a map object is returned \n",
    "* returning a map object refering to the memory location in which the values are stored is very useful as this makes it faster to run the code without slowing down, That will be shown in the code :)\n",
    " \n"
   ]
  },
  {
   "cell_type": "markdown",
   "id": "9b738b18",
   "metadata": {},
   "source": [
    "##### we can turn each item in the list names to uppercase without using a loop in just one line of code"
   ]
  },
  {
   "cell_type": "code",
   "execution_count": 2,
   "id": "b1a7454d",
   "metadata": {},
   "outputs": [
    {
     "data": {
      "text/plain": [
       "['AHMED', 'ALI', 'AKRAM']"
      ]
     },
     "execution_count": 2,
     "metadata": {},
     "output_type": "execute_result"
    }
   ],
   "source": [
    "names = ['ahmed','ali','akram']\n",
    "\n",
    "upper_names = list(map(str.upper,names))\n",
    "upper_names"
   ]
  },
  {
   "cell_type": "markdown",
   "id": "2989a0df",
   "metadata": {},
   "source": [
    "#### we can define a function and pass it to the map() function as follows:"
   ]
  },
  {
   "cell_type": "code",
   "execution_count": 5,
   "id": "89289355",
   "metadata": {},
   "outputs": [
    {
     "data": {
      "text/plain": [
       "[4, 25, 36, 64, 81, 4096]"
      ]
     },
     "execution_count": 5,
     "metadata": {},
     "output_type": "execute_result"
    }
   ],
   "source": [
    "def cube(x):\n",
    "    return x ** 2 \n",
    "\n",
    "nums = [2,5,6,8,9,64]\n",
    "\n",
    "nums_cubed = map(cube, nums)\n",
    "list(nums_cubed)"
   ]
  },
  {
   "cell_type": "markdown",
   "id": "49828509",
   "metadata": {},
   "source": [
    "#### map() function can accept more than one iterable and apply the function on them"
   ]
  },
  {
   "cell_type": "code",
   "execution_count": 6,
   "id": "f97940e9",
   "metadata": {},
   "outputs": [
    {
     "data": {
      "text/plain": [
       "[3, 7, 11, 15]"
      ]
     },
     "execution_count": 6,
     "metadata": {},
     "output_type": "execute_result"
    }
   ],
   "source": [
    "numbers_1 = [2,4,6,8]\n",
    "numbers_2 = [1,3,5,7]\n",
    "\n",
    "def add(x,y):\n",
    "    return x+y\n",
    "\n",
    "add_numbers = map(add, numbers_1, numbers_2)\n",
    "\n",
    "list(add_numbers)"
   ]
  },
  {
   "cell_type": "markdown",
   "id": "8a909795",
   "metadata": {},
   "source": [
    "#### map() function acceptes anonymous functiond (lambda functions) and apply the function on the iterable"
   ]
  },
  {
   "cell_type": "code",
   "execution_count": 10,
   "id": "0d21536e",
   "metadata": {},
   "outputs": [
    {
     "data": {
      "text/plain": [
       "[3, 7, 11, 15]"
      ]
     },
     "execution_count": 10,
     "metadata": {},
     "output_type": "execute_result"
    }
   ],
   "source": [
    "add_numbers = map(lambda x,y : x+y , numbers_1, numbers_2)\n",
    "list(add_numbers)"
   ]
  },
  {
   "cell_type": "markdown",
   "id": "30c95867",
   "metadata": {},
   "source": [
    "## A comparison between time taken by ordinary loop and a mpa() function to perform a function on a big number of iterations "
   ]
  },
  {
   "cell_type": "code",
   "execution_count": 15,
   "id": "b00f54ee",
   "metadata": {},
   "outputs": [],
   "source": [
    "def square(x):\n",
    "    return x ** 2\n",
    "\n",
    "numbers_test = [*range(10000000)]"
   ]
  },
  {
   "cell_type": "code",
   "execution_count": 16,
   "id": "e7b5f30d",
   "metadata": {},
   "outputs": [
    {
     "name": "stdout",
     "output_type": "stream",
     "text": [
      "2.5 s ± 18.6 ms per loop (mean ± std. dev. of 7 runs, 1 loop each)\n"
     ]
    }
   ],
   "source": [
    "%%timeit \n",
    "for number in numbers_test:\n",
    "    square(number)"
   ]
  },
  {
   "cell_type": "code",
   "execution_count": 17,
   "id": "95f6fadb",
   "metadata": {},
   "outputs": [
    {
     "name": "stdout",
     "output_type": "stream",
     "text": [
      "157 ns ± 0.684 ns per loop (mean ± std. dev. of 7 runs, 10000000 loops each)\n"
     ]
    }
   ],
   "source": [
    "%%timeit\n",
    "map(square,numbers_test)"
   ]
  },
  {
   "cell_type": "markdown",
   "id": "e68f40f1",
   "metadata": {},
   "source": [
    "### don't write dirty code and say python is very sloooow"
   ]
  },
  {
   "cell_type": "markdown",
   "id": "ae24489a",
   "metadata": {},
   "source": [
    "# filter() function\n",
    "\n",
    "* The filter() method filters the given sequence with the help of a function that tests each element in the sequence to be true or not.\n",
    "* it returns a filter object with the memory location where the values are stored \n",
    "* in most cases filter function is much faster than oedinary loops"
   ]
  },
  {
   "cell_type": "markdown",
   "id": "9c3a5bdf",
   "metadata": {},
   "source": [
    "we have a list with names of boys, we want to make a list with only names starting in the letter a  "
   ]
  },
  {
   "cell_type": "code",
   "execution_count": 22,
   "id": "f275b124",
   "metadata": {},
   "outputs": [
    {
     "data": {
      "text/plain": [
       "['ahmed', 'ayman', 'ali']"
      ]
     },
     "execution_count": 22,
     "metadata": {},
     "output_type": "execute_result"
    }
   ],
   "source": [
    "boys = ['ahmed', 'kamel', 'shawky', 'ayman', 'ali', 'ibrahim']\n",
    "\n",
    "def func(boy):\n",
    "    if boy[0] == 'a':\n",
    "        return True\n",
    "    else:\n",
    "        return False\n",
    "    \n",
    "a_boys = filter(func, boys)\n",
    "list(a_boys)"
   ]
  },
  {
   "cell_type": "markdown",
   "id": "af467688",
   "metadata": {},
   "source": [
    "##### we can use it with lambda function to seperate list with specified constraints \n",
    "\n",
    "we have a list of numbers and we have to seperate even numbers from odd ones"
   ]
  },
  {
   "cell_type": "code",
   "execution_count": 26,
   "id": "9ce56ac8",
   "metadata": {},
   "outputs": [
    {
     "name": "stdout",
     "output_type": "stream",
     "text": [
      "[4, 76, 86, 2, 756, 234, 878, 90, 24, 58]\n",
      "[1, 3, 645, 765, 79, 67]\n"
     ]
    }
   ],
   "source": [
    "odd_even = [1,4,76,86,3,2,756,645,234,765,878,90,24,79,58,67]\n",
    "\n",
    "even = filter(lambda x: x%2 == 0, odd_even)\n",
    "\n",
    "odd = filter(lambda x: x%2 !=0, odd_even)\n",
    "\n",
    "print (list(even))\n",
    "print (list(odd))"
   ]
  },
  {
   "cell_type": "markdown",
   "id": "d7d5c201",
   "metadata": {},
   "source": [
    "## compare time needed by filter with that neede by ordinary loop"
   ]
  },
  {
   "cell_type": "code",
   "execution_count": 27,
   "id": "37956298",
   "metadata": {},
   "outputs": [],
   "source": [
    "def even_test(num):\n",
    "    if num %2 ==0 :\n",
    "        return True \n",
    "    \n",
    "test_nums = [*range(10000000)]\n",
    "\n"
   ]
  },
  {
   "cell_type": "code",
   "execution_count": 30,
   "id": "56f9a7ac",
   "metadata": {},
   "outputs": [
    {
     "name": "stdout",
     "output_type": "stream",
     "text": [
      "1.63 s ± 13.1 ms per loop (mean ± std. dev. of 7 runs, 1 loop each)\n"
     ]
    }
   ],
   "source": [
    "%%timeit\n",
    "even_nums1= []\n",
    "\n",
    "for number in test_nums:\n",
    "    if even_test(number):\n",
    "        even_nums1.append(number)\n"
   ]
  },
  {
   "cell_type": "code",
   "execution_count": 31,
   "id": "f179bbb1",
   "metadata": {},
   "outputs": [
    {
     "name": "stdout",
     "output_type": "stream",
     "text": [
      "145 ns ± 0.679 ns per loop (mean ± std. dev. of 7 runs, 10000000 loops each)\n"
     ]
    }
   ],
   "source": [
    "%%timeit \n",
    "even_nums2 = filter(even_test,test_nums)\n"
   ]
  },
  {
   "cell_type": "markdown",
   "id": "d7fa96ac",
   "metadata": {},
   "source": [
    "# reduce()\n",
    "\n",
    "* to use the function we have to import the module functools \n",
    "* the functions simply take the 1st and the 2nd element in the iterable and apply the passed function on them \n",
    "* it uses the result from the previous opration with the 3rd element and apply the function on it, and so on \n",
    "* it can perform any function on the iterable you pass\n"
   ]
  },
  {
   "cell_type": "code",
   "execution_count": 36,
   "id": "66d7103d",
   "metadata": {},
   "outputs": [
    {
     "name": "stdout",
     "output_type": "stream",
     "text": [
      "40\n"
     ]
    }
   ],
   "source": [
    "from functools import reduce\n",
    "\n",
    "Numbers = [1,3,5,8,9,5,5,4]\n",
    "def add_nums(a,b):\n",
    "    return a+b\n",
    "\n",
    "summation = reduce(add_nums,Numbers)\n",
    "print(summation)"
   ]
  },
  {
   "cell_type": "markdown",
   "id": "49ad6a75",
   "metadata": {},
   "source": [
    "to show what happened in details:"
   ]
  },
  {
   "cell_type": "code",
   "execution_count": 37,
   "id": "49ac8e94",
   "metadata": {},
   "outputs": [
    {
     "data": {
      "text/plain": [
       "40"
      ]
     },
     "execution_count": 37,
     "metadata": {},
     "output_type": "execute_result"
    }
   ],
   "source": [
    "(((((((1+3)+5)+8)+9)+5)+5)+4)"
   ]
  },
  {
   "cell_type": "markdown",
   "id": "208ced40",
   "metadata": {},
   "source": [
    "##### we can use lambda fuction within reduce function as follows:"
   ]
  },
  {
   "cell_type": "code",
   "execution_count": 43,
   "id": "388f9e7a",
   "metadata": {},
   "outputs": [
    {
     "data": {
      "text/plain": [
       "5760"
      ]
     },
     "execution_count": 43,
     "metadata": {},
     "output_type": "execute_result"
    }
   ],
   "source": [
    "nums1 = [15,51,51,66,87,98]\n",
    "nums2 = [1 ,9 ,7 ,5 ,6 ,8]\n",
    "small_cal = reduce(lambda x,y: 2*x + 3*y, nums1)\n",
    "small_cal\n"
   ]
  },
  {
   "cell_type": "markdown",
   "id": "d966bae7",
   "metadata": {},
   "source": [
    "####     reduce() function with three parameters\n",
    "Reduce function i.e. reduce() function works with 3 parameters in python3 as well as for 2 parameters. To put it in a simple way reduce() places the 3rd parameter before the value of the second one, if it’s present. Thus, it means that if the 2nd argument is an empty sequence, then 3rd argument serves as the default one. \n"
   ]
  },
  {
   "cell_type": "markdown",
   "id": "0e0dfe72",
   "metadata": {},
   "source": [
    "### difference between reduce function and accumulate function\n",
    "* reduce() is defined in “functools” module, accumulate() in “itertools” module.\n",
    "* reduce() stores the intermediate result and only returns the final summation value. \n",
    "* accumulate() returns a iterator containing the intermediate results. The last number of the iterator returned is summation value of the list.\n",
    "* reduce(fun,seq) takes function as 1st and sequence as 2nd argument.\n",
    "* In contrast accumulate(seq,fun) takes sequence as 1st argument and function as 2nd argument.\n"
   ]
  },
  {
   "cell_type": "code",
   "execution_count": 48,
   "id": "ef5cea9d",
   "metadata": {},
   "outputs": [
    {
     "data": {
      "text/plain": [
       "[15, 183, 519, 1236, 2733, 5760]"
      ]
     },
     "execution_count": 48,
     "metadata": {},
     "output_type": "execute_result"
    }
   ],
   "source": [
    "from itertools import accumulate\n",
    "\n",
    "acc= accumulate(nums1, lambda x,y: 2*x + 3*y)\n",
    "list(acc)"
   ]
  }
 ],
 "metadata": {
  "kernelspec": {
   "display_name": "Python 3 (ipykernel)",
   "language": "python",
   "name": "python3"
  },
  "language_info": {
   "codemirror_mode": {
    "name": "ipython",
    "version": 3
   },
   "file_extension": ".py",
   "mimetype": "text/x-python",
   "name": "python",
   "nbconvert_exporter": "python",
   "pygments_lexer": "ipython3",
   "version": "3.9.12"
  }
 },
 "nbformat": 4,
 "nbformat_minor": 5
}

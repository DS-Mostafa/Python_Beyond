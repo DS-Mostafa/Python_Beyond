{
 "cells": [
  {
   "cell_type": "markdown",
   "id": "070b4e99",
   "metadata": {},
   "source": [
    "# Multiple Return Values for a function \n",
    "\n",
    "It's assumed that you know how to define functions and how to pass arguments and return values from  a function\n",
    "\n",
    "we can return multiple values from defined functions using a tuple \n",
    "\n",
    "a tuple is like a list but it's immutable; we can not change its content once it's created \n"
   ]
  },
  {
   "cell_type": "markdown",
   "id": "8c9e89b9",
   "metadata": {},
   "source": [
    "### Tuple creation and assigning values\n",
    "\n",
    "it's created usin brackets ()"
   ]
  },
  {
   "cell_type": "code",
   "execution_count": 3,
   "id": "04c248c9",
   "metadata": {},
   "outputs": [
    {
     "name": "stdout",
     "output_type": "stream",
     "text": [
      "(1, 3, 5, 7, 9)\n"
     ]
    }
   ],
   "source": [
    "odd_nums = (1,3,5,7,9)\n",
    "print (odd_nums)"
   ]
  },
  {
   "cell_type": "markdown",
   "id": "3b96feef",
   "metadata": {},
   "source": [
    "we can assign valuse from a tuple to variables as follows:"
   ]
  },
  {
   "cell_type": "code",
   "execution_count": 6,
   "id": "8cf91bd3",
   "metadata": {},
   "outputs": [
    {
     "name": "stdout",
     "output_type": "stream",
     "text": [
      "1\n",
      "3\n",
      "5\n"
     ]
    }
   ],
   "source": [
    "a , b , c , d , e = odd_nums\n",
    "\n",
    "print(a)\n",
    "print(b)\n",
    "print(c)"
   ]
  },
  {
   "cell_type": "markdown",
   "id": "e36879f2",
   "metadata": {},
   "source": [
    "we can access an element in the tuple using square brackets [] and assign this element's value to another variable "
   ]
  },
  {
   "cell_type": "code",
   "execution_count": 8,
   "id": "e503063d",
   "metadata": {},
   "outputs": [
    {
     "name": "stdout",
     "output_type": "stream",
     "text": [
      "5\n",
      "7\n"
     ]
    }
   ],
   "source": [
    "print(odd_nums[2])\n",
    "\n",
    "x = odd_nums[3] \n",
    "\n",
    "print (x)"
   ]
  },
  {
   "cell_type": "markdown",
   "id": "2329d35d",
   "metadata": {},
   "source": [
    " for a function returning only one value like that:"
   ]
  },
  {
   "cell_type": "code",
   "execution_count": 9,
   "id": "4f9e3de3",
   "metadata": {},
   "outputs": [
    {
     "name": "stdout",
     "output_type": "stream",
     "text": [
      "10\n",
      "30\n"
     ]
    }
   ],
   "source": [
    "def addition (x,y,z):\n",
    "    nums_sum = x + y + z \n",
    "    return nums_sum\n",
    "\n",
    "def product (x,y,z):\n",
    "    nums_product = x * y * z\n",
    "    return nums_product\n",
    "    \n",
    "    \n",
    "num_1 = 2 \n",
    "num_2 = 3 \n",
    "num_3 = 5 \n",
    "\n",
    "add= addition(num_1, num_2, num_3)\n",
    "multiply = product(num_1, num_2, num_3)\n",
    "\n",
    "print(add)\n",
    "print(multiply)"
   ]
  },
  {
   "cell_type": "markdown",
   "id": "d6d185e5",
   "metadata": {},
   "source": [
    "We can build a new function that returns the sum and the product of the numbers, by returning the desired multiple results in a tuple "
   ]
  },
  {
   "cell_type": "code",
   "execution_count": null,
   "id": "f9f848be",
   "metadata": {},
   "outputs": [],
   "source": [
    "def add_mul (x,y,z):\n",
    "    nums_sum = x + y + z \n",
    "    nums_product = x * y * z\n",
    "    \n",
    "    results = (nums_sum, nums_product)\n",
    "    \n",
    "    return results\n",
    "\n",
    "results_tuple = add_mul(num_1, num_2, num_3)\n",
    "\n",
    "print(results_tuple) # print the returned content\n",
    "print(type(results_tuple))  # check that the returned value is a tuple\n",
    "    "
   ]
  },
  {
   "cell_type": "markdown",
   "id": "024f5fa2",
   "metadata": {},
   "source": [
    "#### we can do the same thing with dictionaries in which a function return a dictionary object "
   ]
  },
  {
   "cell_type": "code",
   "execution_count": 37,
   "id": "9ecefd34",
   "metadata": {},
   "outputs": [
    {
     "name": "stdout",
     "output_type": "stream",
     "text": [
      "{'ahmed': 12, 'Ali': 13, 'Akram': 19}\n",
      "<class 'dict'>\n"
     ]
    }
   ],
   "source": [
    "def return_dict():\n",
    "    simple_dict = {\n",
    "        'ahmed' : 12, \n",
    "        'Ali' : 13, \n",
    "        'Akram' : 19\n",
    "    }\n",
    "    \n",
    "    return simple_dict\n",
    "\n",
    "print(return_dict())\n",
    "print(type(return_dict()))"
   ]
  },
  {
   "cell_type": "markdown",
   "id": "9f446ec8",
   "metadata": {},
   "source": [
    "##### That seems to be useful in buliding a simple calculator, but using functions that return multiple values at a time can be very valuable\n",
    "\n",
    "\n",
    "##### let's see how"
   ]
  },
  {
   "cell_type": "markdown",
   "id": "0149a174",
   "metadata": {},
   "source": [
    "we will try to get simple insights from a twitter dataset \n",
    "\n",
    "we are trying to get some some insights about languages usid accross the platform "
   ]
  },
  {
   "cell_type": "code",
   "execution_count": 14,
   "id": "6da53549",
   "metadata": {},
   "outputs": [
    {
     "data": {
      "text/html": [
       "<div>\n",
       "<style scoped>\n",
       "    .dataframe tbody tr th:only-of-type {\n",
       "        vertical-align: middle;\n",
       "    }\n",
       "\n",
       "    .dataframe tbody tr th {\n",
       "        vertical-align: top;\n",
       "    }\n",
       "\n",
       "    .dataframe thead th {\n",
       "        text-align: right;\n",
       "    }\n",
       "</style>\n",
       "<table border=\"1\" class=\"dataframe\">\n",
       "  <thead>\n",
       "    <tr style=\"text-align: right;\">\n",
       "      <th></th>\n",
       "      <th>contributors</th>\n",
       "      <th>coordinates</th>\n",
       "      <th>created_at</th>\n",
       "      <th>entities</th>\n",
       "      <th>extended_entities</th>\n",
       "      <th>favorite_count</th>\n",
       "      <th>favorited</th>\n",
       "      <th>filter_level</th>\n",
       "      <th>geo</th>\n",
       "      <th>id</th>\n",
       "      <th>...</th>\n",
       "      <th>quoted_status_id</th>\n",
       "      <th>quoted_status_id_str</th>\n",
       "      <th>retweet_count</th>\n",
       "      <th>retweeted</th>\n",
       "      <th>retweeted_status</th>\n",
       "      <th>source</th>\n",
       "      <th>text</th>\n",
       "      <th>timestamp_ms</th>\n",
       "      <th>truncated</th>\n",
       "      <th>user</th>\n",
       "    </tr>\n",
       "  </thead>\n",
       "  <tbody>\n",
       "    <tr>\n",
       "      <th>0</th>\n",
       "      <td>NaN</td>\n",
       "      <td>NaN</td>\n",
       "      <td>Tue Mar 29 23:40:17 +0000 2016</td>\n",
       "      <td>{'hashtags': [], 'user_mentions': [{'screen_na...</td>\n",
       "      <td>{'media': [{'sizes': {'large': {'w': 1024, 'h'...</td>\n",
       "      <td>0</td>\n",
       "      <td>False</td>\n",
       "      <td>low</td>\n",
       "      <td>NaN</td>\n",
       "      <td>714960401759387648</td>\n",
       "      <td>...</td>\n",
       "      <td>NaN</td>\n",
       "      <td>NaN</td>\n",
       "      <td>0</td>\n",
       "      <td>False</td>\n",
       "      <td>{'retweeted': False, 'text': \".@krollbondratin...</td>\n",
       "      <td>&lt;a href=\"http://twitter.com\" rel=\"nofollow\"&gt;Tw...</td>\n",
       "      <td>RT @bpolitics: .@krollbondrating's Christopher...</td>\n",
       "      <td>1459294817758</td>\n",
       "      <td>False</td>\n",
       "      <td>{'utc_offset': 3600, 'profile_image_url_https'...</td>\n",
       "    </tr>\n",
       "    <tr>\n",
       "      <th>1</th>\n",
       "      <td>NaN</td>\n",
       "      <td>NaN</td>\n",
       "      <td>Tue Mar 29 23:40:17 +0000 2016</td>\n",
       "      <td>{'hashtags': [{'text': 'cruzsexscandal', 'indi...</td>\n",
       "      <td>{'media': [{'sizes': {'large': {'w': 500, 'h':...</td>\n",
       "      <td>0</td>\n",
       "      <td>False</td>\n",
       "      <td>low</td>\n",
       "      <td>NaN</td>\n",
       "      <td>714960401977319424</td>\n",
       "      <td>...</td>\n",
       "      <td>NaN</td>\n",
       "      <td>NaN</td>\n",
       "      <td>0</td>\n",
       "      <td>False</td>\n",
       "      <td>{'retweeted': False, 'text': '@dmartosko Cruz ...</td>\n",
       "      <td>&lt;a href=\"http://twitter.com\" rel=\"nofollow\"&gt;Tw...</td>\n",
       "      <td>RT @HeidiAlpine: @dmartosko Cruz video found.....</td>\n",
       "      <td>1459294817810</td>\n",
       "      <td>False</td>\n",
       "      <td>{'utc_offset': None, 'profile_image_url_https'...</td>\n",
       "    </tr>\n",
       "    <tr>\n",
       "      <th>2</th>\n",
       "      <td>NaN</td>\n",
       "      <td>NaN</td>\n",
       "      <td>Tue Mar 29 23:40:17 +0000 2016</td>\n",
       "      <td>{'hashtags': [], 'user_mentions': [], 'symbols...</td>\n",
       "      <td>NaN</td>\n",
       "      <td>0</td>\n",
       "      <td>False</td>\n",
       "      <td>low</td>\n",
       "      <td>NaN</td>\n",
       "      <td>714960402426236928</td>\n",
       "      <td>...</td>\n",
       "      <td>NaN</td>\n",
       "      <td>NaN</td>\n",
       "      <td>0</td>\n",
       "      <td>False</td>\n",
       "      <td>NaN</td>\n",
       "      <td>&lt;a href=\"http://www.facebook.com/twitter\" rel=...</td>\n",
       "      <td>Njihuni me Zonjën Trump !!! | Ekskluzive https...</td>\n",
       "      <td>1459294817917</td>\n",
       "      <td>False</td>\n",
       "      <td>{'utc_offset': 7200, 'profile_image_url_https'...</td>\n",
       "    </tr>\n",
       "    <tr>\n",
       "      <th>3</th>\n",
       "      <td>NaN</td>\n",
       "      <td>NaN</td>\n",
       "      <td>Tue Mar 29 23:40:17 +0000 2016</td>\n",
       "      <td>{'hashtags': [], 'user_mentions': [], 'symbols...</td>\n",
       "      <td>NaN</td>\n",
       "      <td>0</td>\n",
       "      <td>False</td>\n",
       "      <td>low</td>\n",
       "      <td>NaN</td>\n",
       "      <td>714960402367561730</td>\n",
       "      <td>...</td>\n",
       "      <td>7.149239e+17</td>\n",
       "      <td>7.149239e+17</td>\n",
       "      <td>0</td>\n",
       "      <td>False</td>\n",
       "      <td>NaN</td>\n",
       "      <td>&lt;a href=\"http://twitter.com/download/android\" ...</td>\n",
       "      <td>Your an idiot she shouldn't have tried to grab...</td>\n",
       "      <td>1459294817903</td>\n",
       "      <td>False</td>\n",
       "      <td>{'utc_offset': None, 'profile_image_url_https'...</td>\n",
       "    </tr>\n",
       "    <tr>\n",
       "      <th>4</th>\n",
       "      <td>NaN</td>\n",
       "      <td>NaN</td>\n",
       "      <td>Tue Mar 29 23:40:17 +0000 2016</td>\n",
       "      <td>{'hashtags': [], 'user_mentions': [{'screen_na...</td>\n",
       "      <td>NaN</td>\n",
       "      <td>0</td>\n",
       "      <td>False</td>\n",
       "      <td>low</td>\n",
       "      <td>NaN</td>\n",
       "      <td>714960402149416960</td>\n",
       "      <td>...</td>\n",
       "      <td>NaN</td>\n",
       "      <td>NaN</td>\n",
       "      <td>0</td>\n",
       "      <td>False</td>\n",
       "      <td>{'retweeted': False, 'text': 'The anti-America...</td>\n",
       "      <td>&lt;a href=\"http://twitter.com/download/iphone\" r...</td>\n",
       "      <td>RT @AlanLohner: The anti-American D.C. elites ...</td>\n",
       "      <td>1459294817851</td>\n",
       "      <td>False</td>\n",
       "      <td>{'utc_offset': -18000, 'profile_image_url_http...</td>\n",
       "    </tr>\n",
       "  </tbody>\n",
       "</table>\n",
       "<p>5 rows × 31 columns</p>\n",
       "</div>"
      ],
      "text/plain": [
       "   contributors  coordinates                      created_at  \\\n",
       "0           NaN          NaN  Tue Mar 29 23:40:17 +0000 2016   \n",
       "1           NaN          NaN  Tue Mar 29 23:40:17 +0000 2016   \n",
       "2           NaN          NaN  Tue Mar 29 23:40:17 +0000 2016   \n",
       "3           NaN          NaN  Tue Mar 29 23:40:17 +0000 2016   \n",
       "4           NaN          NaN  Tue Mar 29 23:40:17 +0000 2016   \n",
       "\n",
       "                                            entities  \\\n",
       "0  {'hashtags': [], 'user_mentions': [{'screen_na...   \n",
       "1  {'hashtags': [{'text': 'cruzsexscandal', 'indi...   \n",
       "2  {'hashtags': [], 'user_mentions': [], 'symbols...   \n",
       "3  {'hashtags': [], 'user_mentions': [], 'symbols...   \n",
       "4  {'hashtags': [], 'user_mentions': [{'screen_na...   \n",
       "\n",
       "                                   extended_entities  favorite_count  \\\n",
       "0  {'media': [{'sizes': {'large': {'w': 1024, 'h'...               0   \n",
       "1  {'media': [{'sizes': {'large': {'w': 500, 'h':...               0   \n",
       "2                                                NaN               0   \n",
       "3                                                NaN               0   \n",
       "4                                                NaN               0   \n",
       "\n",
       "   favorited filter_level  geo                  id  ...  quoted_status_id  \\\n",
       "0      False          low  NaN  714960401759387648  ...               NaN   \n",
       "1      False          low  NaN  714960401977319424  ...               NaN   \n",
       "2      False          low  NaN  714960402426236928  ...               NaN   \n",
       "3      False          low  NaN  714960402367561730  ...      7.149239e+17   \n",
       "4      False          low  NaN  714960402149416960  ...               NaN   \n",
       "\n",
       "  quoted_status_id_str  retweet_count  retweeted  \\\n",
       "0                  NaN              0      False   \n",
       "1                  NaN              0      False   \n",
       "2                  NaN              0      False   \n",
       "3         7.149239e+17              0      False   \n",
       "4                  NaN              0      False   \n",
       "\n",
       "                                    retweeted_status  \\\n",
       "0  {'retweeted': False, 'text': \".@krollbondratin...   \n",
       "1  {'retweeted': False, 'text': '@dmartosko Cruz ...   \n",
       "2                                                NaN   \n",
       "3                                                NaN   \n",
       "4  {'retweeted': False, 'text': 'The anti-America...   \n",
       "\n",
       "                                              source  \\\n",
       "0  <a href=\"http://twitter.com\" rel=\"nofollow\">Tw...   \n",
       "1  <a href=\"http://twitter.com\" rel=\"nofollow\">Tw...   \n",
       "2  <a href=\"http://www.facebook.com/twitter\" rel=...   \n",
       "3  <a href=\"http://twitter.com/download/android\" ...   \n",
       "4  <a href=\"http://twitter.com/download/iphone\" r...   \n",
       "\n",
       "                                                text   timestamp_ms truncated  \\\n",
       "0  RT @bpolitics: .@krollbondrating's Christopher...  1459294817758     False   \n",
       "1  RT @HeidiAlpine: @dmartosko Cruz video found.....  1459294817810     False   \n",
       "2  Njihuni me Zonjën Trump !!! | Ekskluzive https...  1459294817917     False   \n",
       "3  Your an idiot she shouldn't have tried to grab...  1459294817903     False   \n",
       "4  RT @AlanLohner: The anti-American D.C. elites ...  1459294817851     False   \n",
       "\n",
       "                                                user  \n",
       "0  {'utc_offset': 3600, 'profile_image_url_https'...  \n",
       "1  {'utc_offset': None, 'profile_image_url_https'...  \n",
       "2  {'utc_offset': 7200, 'profile_image_url_https'...  \n",
       "3  {'utc_offset': None, 'profile_image_url_https'...  \n",
       "4  {'utc_offset': -18000, 'profile_image_url_http...  \n",
       "\n",
       "[5 rows x 31 columns]"
      ]
     },
     "execution_count": 14,
     "metadata": {},
     "output_type": "execute_result"
    }
   ],
   "source": [
    "# import pandas \n",
    "import pandas as pd \n",
    "\n",
    "df = pd.read_csv('D:/MyDrive/DATA SCIENCE/DataCamp/python_toolbox_1/data/tweets.csv')\n",
    "df.head()"
   ]
  },
  {
   "cell_type": "code",
   "execution_count": 19,
   "id": "8f94ef8f",
   "metadata": {},
   "outputs": [
    {
     "data": {
      "text/plain": [
       "dict_keys"
      ]
     },
     "execution_count": 19,
     "metadata": {},
     "output_type": "execute_result"
    }
   ],
   "source": [
    "# create an empty dictionary \n",
    "langs_count = {}\n",
    "\n",
    "# extract the lang column from the dataframe\n",
    "lang_col = df['lang']\n"
   ]
  },
  {
   "cell_type": "markdown",
   "id": "d8f0514d",
   "metadata": {},
   "source": [
    "now we will iterate over each entry in the column and put the output into the dictionary :\n",
    "\n",
    "* if the language is added befpr in the dictionary then increase its count by one\n",
    "* if the language hasn't been added befor then add it and set its count to 1"
   ]
  },
  {
   "cell_type": "code",
   "execution_count": 23,
   "id": "55083812",
   "metadata": {},
   "outputs": [
    {
     "name": "stdout",
     "output_type": "stream",
     "text": [
      "{'en': 97, 'et': 1, 'und': 2}\n"
     ]
    }
   ],
   "source": [
    "for entry in lang_col:\n",
    "    if entry in langs_count.keys():\n",
    "        langs_count[entry] +=1 \n",
    "    else:\n",
    "        langs_count[entry] = 1\n",
    "        \n",
    "print(langs_count)"
   ]
  },
  {
   "cell_type": "markdown",
   "id": "bf9615a9",
   "metadata": {},
   "source": [
    "now we can create a function doing the same functionality that takes the data frame, and the column name to count its entries as arguments and returns the desired values just by calling the function\n",
    "\n",
    "By doing so we can get the advantage of:\n",
    "* use the same function with multiple inputs just by calling the function in one line of code instead of writing it many times.\n",
    "* we can create similar functions depending on the function we built just by making some modifications on it. \n",
    "* reusing functions built by others that meet our needs."
   ]
  },
  {
   "cell_type": "code",
   "execution_count": 25,
   "id": "32adc8d3",
   "metadata": {},
   "outputs": [
    {
     "name": "stdout",
     "output_type": "stream",
     "text": [
      "{'en': 1, 'et': 1, 'und': 1}\n"
     ]
    }
   ],
   "source": [
    "def count_entries (df,col_name):\n",
    "    col = df [col_name]\n",
    "    count_dict = {}\n",
    "    \n",
    "    for entry in col:\n",
    "        if entry in col.keys():\n",
    "            count_dict[entry] +=1 \n",
    "        else:\n",
    "            count_dict[entry] = 1\n",
    "            \n",
    "    return count_dict \n",
    "\n",
    "result = count_entries(df,'lang')\n",
    "print(result)"
   ]
  },
  {
   "cell_type": "markdown",
   "id": "56b6b54c",
   "metadata": {},
   "source": [
    "#### we got the same output taking the advantage of reusing the function many times with various inputs. "
   ]
  },
  {
   "cell_type": "code",
   "execution_count": null,
   "id": "b020b733",
   "metadata": {},
   "outputs": [],
   "source": []
  }
 ],
 "metadata": {
  "kernelspec": {
   "display_name": "Python 3 (ipykernel)",
   "language": "python",
   "name": "python3"
  },
  "language_info": {
   "codemirror_mode": {
    "name": "ipython",
    "version": 3
   },
   "file_extension": ".py",
   "mimetype": "text/x-python",
   "name": "python",
   "nbconvert_exporter": "python",
   "pygments_lexer": "ipython3",
   "version": "3.9.12"
  }
 },
 "nbformat": 4,
 "nbformat_minor": 5
}

{
 "cells": [
  {
   "cell_type": "markdown",
   "id": "ed4c948f",
   "metadata": {},
   "source": [
    "# Magic Functions"
   ]
  },
  {
   "cell_type": "markdown",
   "id": "eda170cd",
   "metadata": {},
   "source": [
    "## __str__ \n",
    "_str__ is run automatically every time an instance is converted to its print string.\n",
    "\n",
    "when we print an oject as we can use __str__ to print it as we want"
   ]
  },
  {
   "cell_type": "code",
   "execution_count": 1,
   "id": "7d1ccb80",
   "metadata": {},
   "outputs": [
    {
     "name": "stdout",
     "output_type": "stream",
     "text": [
      "Name: Ali Ibrahim \n",
      "Age: 25\n"
     ]
    }
   ],
   "source": [
    "class student:\n",
    "    def __init__(self, first_name, second_name, age):\n",
    "        self.f_name = first_name\n",
    "        self.s_name = second_name\n",
    "        self.age = age\n",
    "        \n",
    "    def display(self):\n",
    "        print (f\"Name: {self.f_name} {self.s_name} \\nAge: {self.age}\")\n",
    "        \n",
    "    def __str__(self):\n",
    "        return f\"student: f_name: {self.f_name} s_name:{self.s_name}  Age: {self.age}\\n object on being printed\"\n",
    "        \n",
    "ali = student(\"Ali\", \"Ibrahim\", 25)\n",
    "\n",
    "ali.display()"
   ]
  },
  {
   "cell_type": "code",
   "execution_count": 2,
   "id": "3dae05d4",
   "metadata": {},
   "outputs": [
    {
     "name": "stdout",
     "output_type": "stream",
     "text": [
      "student: f_name: Ali s_name:Ibrahim  Age: 25\n",
      " object on being printed\n"
     ]
    }
   ],
   "source": [
    "print(ali)"
   ]
  },
  {
   "cell_type": "code",
   "execution_count": 3,
   "id": "a9b41907",
   "metadata": {},
   "outputs": [
    {
     "name": "stdout",
     "output_type": "stream",
     "text": [
      "student: f_name: ahmed s_name:Karim  Age: 16\n",
      " object on being printed\n"
     ]
    }
   ],
   "source": [
    "ahmed = student(\"ahmed\", \"Karim\", 16)\n",
    "\n",
    "print(ahmed)"
   ]
  },
  {
   "cell_type": "markdown",
   "id": "9201f060",
   "metadata": {},
   "source": [
    "## add , sub \n"
   ]
  },
  {
   "cell_type": "code",
   "execution_count": 5,
   "id": "f5de2cd1",
   "metadata": {},
   "outputs": [
    {
     "name": "stdout",
     "output_type": "stream",
     "text": [
      "Current value is: 5 \n",
      "\n"
     ]
    }
   ],
   "source": [
    "class Num:\n",
    "    def __init__(self, init_val):\n",
    "        self.data = init_val\n",
    "        \n",
    "    def __add__(self, new_val):\n",
    "        return Num(self.data + new_val)\n",
    "    \n",
    "    def __sub__ (self, new_val):\n",
    "        return Num(self.data - new_val)\n",
    "    \n",
    "    def display(self):\n",
    "        print(f\"Current value is: {self.data} \\n\")\n",
    "    \n",
    "num_1 = Num(5)\n",
    "num_1.display()"
   ]
  },
  {
   "cell_type": "code",
   "execution_count": 6,
   "id": "0e032667",
   "metadata": {},
   "outputs": [
    {
     "name": "stdout",
     "output_type": "stream",
     "text": [
      "Current value is: 0 \n",
      "\n"
     ]
    }
   ],
   "source": [
    "num_2 = num_1 - 5\n",
    "num_2.display()"
   ]
  },
  {
   "cell_type": "code",
   "execution_count": 7,
   "id": "ed9e8c37",
   "metadata": {},
   "outputs": [
    {
     "name": "stdout",
     "output_type": "stream",
     "text": [
      "Current value is: 10 \n",
      "\n"
     ]
    }
   ],
   "source": [
    "num_3 = num_2 + 10\n",
    "num_3.display()"
   ]
  },
  {
   "cell_type": "markdown",
   "id": "d6067a2b",
   "metadata": {},
   "source": [
    "## Indexing and Slicing: getitem & setitem"
   ]
  },
  {
   "cell_type": "markdown",
   "id": "285a35f9",
   "metadata": {},
   "source": [
    "- getitem is called with index expressions like X[] \n",
    "- It;s used for many purposes but the main idea is the same"
   ]
  },
  {
   "cell_type": "code",
   "execution_count": 8,
   "id": "586784cb",
   "metadata": {},
   "outputs": [
    {
     "name": "stdout",
     "output_type": "stream",
     "text": [
      "4\n",
      "16\n"
     ]
    }
   ],
   "source": [
    "# used to return the square of a number\n",
    "class square:\n",
    "    def __init__(self):\n",
    "        pass\n",
    "    \n",
    "    def __getitem__(self, index):\n",
    "        return index ** 2 \n",
    "    \n",
    "x = square()\n",
    "\n",
    "print(x[2])       # the function will be called when the indexing apear x[pla pla...] \n",
    "print (x[4])       # In other words x[pla pla...] will call the __getitem__ function"
   ]
  },
  {
   "cell_type": "markdown",
   "id": "488c1d72",
   "metadata": {},
   "source": [
    "- it can be used with slicing \n",
    "- formally speaking, built-in types handel slicing with the same way\n",
    "\n",
    "- the result of slicing a list using the built-in and using the _getitem_ dunction will give the same output \n",
    "\n",
    "- note that if we pass a single number in the [] it will retuen the item at that index \n",
    "- if we pass a slice object [start : end] it will return elements withing the specified slice"
   ]
  },
  {
   "cell_type": "code",
   "execution_count": 10,
   "id": "dbd8ce89",
   "metadata": {},
   "outputs": [
    {
     "name": "stdout",
     "output_type": "stream",
     "text": [
      "Using built-in:\n",
      "Item at index 0 : 5\n",
      "The sliced list is : [7, 8, 9]\n",
      "\n",
      "\n",
      "Using the defined __getitem__ function:\n",
      "Item at index 0 : 5\n",
      "The sliced list:[7, 8, 9]\n"
     ]
    }
   ],
   "source": [
    "sample_list = [5,6,7,8,9,10]\n",
    "\n",
    "class slicer:\n",
    "    def __init__(self, data):\n",
    "        self.data = data\n",
    "        \n",
    "    def __getitem__(self, index):\n",
    "        \n",
    "        return self.data[index]\n",
    "\n",
    "# using built-in\n",
    "sliced_1 = sample_list[2:5]\n",
    "\n",
    "print (f\"Using built-in:\\nItem at index 0 : {sample_list[0]}\\nThe sliced list is : {sliced_1}\\n\\n\")\n",
    "\n",
    "\n",
    "sliced_instance = slicer(sample_list)\n",
    "\n",
    "sliced_2 = sliced_instance[2:5]\n",
    "\n",
    "\n",
    "print(f\"Using the defined __getitem__ function:\\nItem at index 0 : {sliced_instance[0]}\\nThe sliced list:{sliced_2}\")"
   ]
  },
  {
   "cell_type": "markdown",
   "id": "300e6f38",
   "metadata": {},
   "source": [
    "### Index Iteration: _getitem__\n",
    "- Here’s a trick that isn’t always obvious to beginners, but turns out to be surprisingly useful.\n",
    "- The for statement works by repeatedly indexing a sequence from zero to higher indexes, until an out-of-bounds exception is detected.\n",
    "- Because of that, __getitem__ also turns out to be one way to overload iteration in Python—if this method is defined, for loops call the class’s __getitem__ each time through, with successively higher off- sets."
   ]
  },
  {
   "cell_type": "code",
   "execution_count": 11,
   "id": "1295d1e6",
   "metadata": {},
   "outputs": [
    {
     "name": "stdout",
     "output_type": "stream",
     "text": [
      "D\n",
      "a\n",
      "t\n",
      "a\n",
      "\n",
      "what happened is that the for loop call __getitem__ many times from o to N\n",
      "\n",
      "1\n",
      "2\n",
      "3\n",
      "4\n",
      "5\n",
      "6\n",
      "7\n",
      "8\n",
      "9\n",
      "10\n"
     ]
    }
   ],
   "source": [
    "class stepper:\n",
    "    \n",
    "    def __init__ (self, data):\n",
    "        self.data = data\n",
    "    \n",
    "    def __getitem__(self, index):\n",
    "        return self.data[index]\n",
    "    \n",
    "stepper_instance_1 = stepper(\"Data\")\n",
    "stepper_instance_2 = stepper([1,2,3,4,5,6,7,8,9,10])\n",
    "\n",
    "\n",
    "for char in stepper_instance_1:\n",
    "    print(char)\n",
    "                            \n",
    "print(\"\\nwhat happened is that the for loop call __getitem__ many times from o to N\\n\")\n",
    "for item in stepper_instance_2:\n",
    "    print (item)"
   ]
  },
  {
   "cell_type": "markdown",
   "id": "8c80e78a",
   "metadata": {},
   "source": [
    "In practice, this technique can be used to create objects that provide a sequence interface and to add logic to built-in sequence type operations; we’ll revisit this idea when ex- tending built-in types in"
   ]
  },
  {
   "cell_type": "markdown",
   "id": "f0da2d99",
   "metadata": {},
   "source": [
    "## Iterator Objects \n",
    "\n",
    "Iterators are everywhere in Python. They are elegantly implemented within for loops, comprehensions, generators etc. but are hidden in plain sight.\n",
    "\n",
    "Iterator in Python is simply an object that can be iterated upon. An object which will return data, one element at a time.\n",
    "\n",
    "Technically speaking, a Python iterator object must implement two special methods, __iter__() and __next__(), collectively called the iterator protocol.\n",
    "\n",
    "An object is called iterable if we can get an iterator from it. Most built-in containers in Python like: list, tuple, string etc. are iterables.\n",
    "\n",
    "The iter() function (which in turn calls the __iter__() method) returns an iterator from them."
   ]
  },
  {
   "cell_type": "markdown",
   "id": "ee02efb9",
   "metadata": {},
   "source": [
    "we use iter() method to iterate over the list\n",
    "\n",
    "We use the next() function to manually iterate through all the items of an iterator. When we reach the end and there is no more data to be returned, it will raise the StopIteration Exception. Following is an example."
   ]
  },
  {
   "cell_type": "code",
   "execution_count": 14,
   "id": "bb0f8987",
   "metadata": {},
   "outputs": [
    {
     "name": "stdout",
     "output_type": "stream",
     "text": [
      "1\n",
      "2\n",
      "3\n",
      "4\n"
     ]
    },
    {
     "ename": "StopIteration",
     "evalue": "",
     "output_type": "error",
     "traceback": [
      "\u001b[0;31m---------------------------------------------------------------------------\u001b[0m",
      "\u001b[0;31mStopIteration\u001b[0m                             Traceback (most recent call last)",
      "Input \u001b[0;32mIn [14]\u001b[0m, in \u001b[0;36m<cell line: 8>\u001b[0;34m()\u001b[0m\n\u001b[1;32m      6\u001b[0m \u001b[38;5;28mprint\u001b[39m(\u001b[38;5;28mnext\u001b[39m(my_iterable))\n\u001b[1;32m      7\u001b[0m \u001b[38;5;28mprint\u001b[39m(\u001b[38;5;28mnext\u001b[39m(my_iterable))\n\u001b[0;32m----> 8\u001b[0m \u001b[38;5;28mprint\u001b[39m(\u001b[38;5;28;43mnext\u001b[39;49m\u001b[43m(\u001b[49m\u001b[43mmy_iterable\u001b[49m\u001b[43m)\u001b[49m)\n",
      "\u001b[0;31mStopIteration\u001b[0m: "
     ]
    }
   ],
   "source": [
    "my_list = [1,2,3,4]\n",
    "my_iterable = iter(my_list)\n",
    "\n",
    "print(next(my_iterable))\n",
    "print(next(my_iterable))\n",
    "print(next(my_iterable))\n",
    "print(next(my_iterable))\n",
    "print(next(my_iterable))"
   ]
  },
  {
   "cell_type": "markdown",
   "id": "4906bf9c",
   "metadata": {},
   "source": [
    "- What we did using iter() and next is what is done by the for loop and we know how to write a for loop to print items in a list\n",
    "- now let's implement the for code as it's done with iter() and next()"
   ]
  },
  {
   "cell_type": "code",
   "execution_count": 18,
   "id": "03ff0027",
   "metadata": {},
   "outputs": [
    {
     "name": "stdout",
     "output_type": "stream",
     "text": [
      "1\n",
      "2\n",
      "3\n",
      "4\n",
      "5\n",
      "7\n",
      "6\n",
      "19\n",
      "no more items    the same result as foor loop\n"
     ]
    }
   ],
   "source": [
    "sample_iterable = [1,2,3,4,5,7,6,19]\n",
    "iter_obj = iter (sample_iterable)\n",
    "\n",
    "# create an infinte loop that will break when the exception of no more items raises\n",
    "\n",
    "while True:                              #infinte loop\n",
    "    try:\n",
    "        element = next(iter_obj)\n",
    "        print (element)\n",
    "        \n",
    "    except StopIteration:               # break when no more items exception raises\n",
    "        print(\"no more items    the same result as foor loop\")\n",
    "        break\n",
    "        "
   ]
  }
 ],
 "metadata": {
  "kernelspec": {
   "display_name": "Python 3 (ipykernel)",
   "language": "python",
   "name": "python3"
  },
  "language_info": {
   "codemirror_mode": {
    "name": "ipython",
    "version": 3
   },
   "file_extension": ".py",
   "mimetype": "text/x-python",
   "name": "python",
   "nbconvert_exporter": "python",
   "pygments_lexer": "ipython3",
   "version": "3.9.12"
  }
 },
 "nbformat": 4,
 "nbformat_minor": 5
}

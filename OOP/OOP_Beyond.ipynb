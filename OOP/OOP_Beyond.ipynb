{
 "cells": [
  {
   "cell_type": "markdown",
   "id": "49f663b6",
   "metadata": {},
   "source": [
    "## Inheritance "
   ]
  },
  {
   "cell_type": "code",
   "execution_count": 63,
   "id": "3a635362",
   "metadata": {},
   "outputs": [
    {
     "name": "stdout",
     "output_type": "stream",
     "text": [
      "current value is: 5\n"
     ]
    }
   ],
   "source": [
    "class a():\n",
    "    def __init__(self):\n",
    "        self.data = 5\n",
    "        \n",
    "    def display(self):\n",
    "        print(f\"current value is: {self.data}\")\n",
    "        \n",
    "\n",
    "i_a = a()\n",
    "\n",
    "i_a.display()"
   ]
  },
  {
   "cell_type": "code",
   "execution_count": 73,
   "id": "9bbf6eff",
   "metadata": {},
   "outputs": [
    {
     "data": {
      "text/plain": [
       "dict_keys(['data', 'name'])"
      ]
     },
     "execution_count": 73,
     "metadata": {},
     "output_type": "execute_result"
    }
   ],
   "source": [
    "i_a.name = \"new name\"\n",
    "\n",
    "i_a.__dict__.keys()"
   ]
  },
  {
   "cell_type": "code",
   "execution_count": 71,
   "id": "03265376",
   "metadata": {},
   "outputs": [
    {
     "name": "stdout",
     "output_type": "stream",
     "text": [
      "new name\n"
     ]
    }
   ],
   "source": [
    "print(i_a.name)"
   ]
  },
  {
   "cell_type": "code",
   "execution_count": 70,
   "id": "47460c6b",
   "metadata": {},
   "outputs": [
    {
     "ename": "AttributeError",
     "evalue": "'a' object has no attribute 'name'",
     "output_type": "error",
     "traceback": [
      "\u001b[0;31m---------------------------------------------------------------------------\u001b[0m",
      "\u001b[0;31mAttributeError\u001b[0m                            Traceback (most recent call last)",
      "Input \u001b[0;32mIn [70]\u001b[0m, in \u001b[0;36m<cell line: 3>\u001b[0;34m()\u001b[0m\n\u001b[1;32m      1\u001b[0m i3_a \u001b[38;5;241m=\u001b[39m a()\n\u001b[0;32m----> 3\u001b[0m \u001b[38;5;28mprint\u001b[39m(\u001b[43mi3_a\u001b[49m\u001b[38;5;241;43m.\u001b[39;49m\u001b[43mname\u001b[49m)\n",
      "\u001b[0;31mAttributeError\u001b[0m: 'a' object has no attribute 'name'"
     ]
    }
   ],
   "source": [
    "i3_a = a()\n",
    "\n",
    "print(i3_a.name)"
   ]
  },
  {
   "cell_type": "code",
   "execution_count": 38,
   "id": "97fd4991",
   "metadata": {},
   "outputs": [
    {
     "name": "stdout",
     "output_type": "stream",
     "text": [
      "current value is: 0\n"
     ]
    }
   ],
   "source": [
    "class b(a):\n",
    "    def __init__(self):\n",
    "        self.data = 0 \n",
    "\n",
    "i_b = b()\n",
    "\n",
    "i_b.display()"
   ]
  },
  {
   "cell_type": "code",
   "execution_count": 41,
   "id": "5a93abc7",
   "metadata": {},
   "outputs": [
    {
     "name": "stdout",
     "output_type": "stream",
     "text": [
      "current value is: 15\n"
     ]
    }
   ],
   "source": [
    "class c(b):\n",
    "    def __init__(self):\n",
    "        self.data = 15 \n",
    "        \n",
    "i_c = c()\n",
    "i_c.display()"
   ]
  },
  {
   "cell_type": "code",
   "execution_count": 42,
   "id": "bf2b8d6f",
   "metadata": {},
   "outputs": [
    {
     "name": "stdout",
     "output_type": "stream",
     "text": [
      "current value is: 5\n"
     ]
    }
   ],
   "source": [
    "i2_a = a()\n",
    "i2_a.display()\n"
   ]
  },
  {
   "cell_type": "code",
   "execution_count": 43,
   "id": "2d0faca9",
   "metadata": {},
   "outputs": [
    {
     "name": "stdout",
     "output_type": "stream",
     "text": [
      "current value is: data is now string!!!\n"
     ]
    }
   ],
   "source": [
    "class d(c):\n",
    "    def __init__(self):\n",
    "        self.data = \"data is now string!!!\"\n",
    "        \n",
    "i_d = d() \n",
    "i_d.display()"
   ]
  },
  {
   "cell_type": "code",
   "execution_count": 57,
   "id": "20d0feae",
   "metadata": {},
   "outputs": [
    {
     "name": "stdout",
     "output_type": "stream",
     "text": [
      "current value is: 5\n"
     ]
    }
   ],
   "source": [
    "class over_ride:\n",
    "    def __init__(self):\n",
    "        self.data = 5\n",
    "        \n",
    "    def __add__(self,other):\n",
    "        self.data += other\n",
    "    \n",
    "    def display(self):\n",
    "        print(f\"current value is: {self.data}\")\n",
    "    \n",
    "o1 = over_ride()\n",
    "\n",
    "o1.display()\n",
    "\n",
    "\n",
    "o2 = over_ride() + 10\n"
   ]
  },
  {
   "cell_type": "markdown",
   "id": "26b8a94f",
   "metadata": {},
   "source": [
    "## Classes in Python are dynamic \n",
    "\n",
    "on declaring an attribute in the class constructor it will accessable from any instance of that class \n",
    "\n",
    "but if you don't define an attribute in the class constructor you can do so in the instance decleration but it will not be accessable for other instances"
   ]
  },
  {
   "cell_type": "code",
   "execution_count": 76,
   "id": "57a6841f",
   "metadata": {},
   "outputs": [
    {
     "name": "stdout",
     "output_type": "stream",
     "text": [
      "Name is : ahmed\n",
      "Age is : 25\n"
     ]
    }
   ],
   "source": [
    "class person():\n",
    "    def __init__(self, name, age):\n",
    "        self.name = name\n",
    "        self.age = age\n",
    "        \n",
    "    def display_info(self):\n",
    "        print (f\"Name is : {self.name}\")\n",
    "        print (f\"Age is : {self.age}\")\n",
    "        \n",
    "p1 = person(\"ahmed\", 25)\n",
    "p1.display_info()"
   ]
  },
  {
   "cell_type": "markdown",
   "id": "c5b0f741",
   "metadata": {},
   "source": [
    "we will define an attribute country to the instance p2 and print it"
   ]
  },
  {
   "cell_type": "code",
   "execution_count": 78,
   "id": "018fa762",
   "metadata": {},
   "outputs": [
    {
     "name": "stdout",
     "output_type": "stream",
     "text": [
      "Name is : mohamed\n",
      "Age is : 45\n",
      "Egypt\n"
     ]
    }
   ],
   "source": [
    "p2 = person(\"mohamed\", 45) \n",
    "\n",
    "p2.display_info()\n",
    "\n",
    "p2.country = \"Egypt\"\n",
    "print(p2.country)\n"
   ]
  },
  {
   "cell_type": "code",
   "execution_count": 83,
   "id": "df817cbb",
   "metadata": {},
   "outputs": [
    {
     "name": "stdout",
     "output_type": "stream",
     "text": [
      "p1 attributes :  dict_keys(['name', 'age'])\n",
      "p2 attributes :  dict_keys(['name', 'age', 'country'])\n"
     ]
    }
   ],
   "source": [
    "print(f\"p1 attributes :  {p1.__dict__.keys()}\")\n",
    "print(f\"p2 attributes :  {p2.__dict__.keys()}\")"
   ]
  },
  {
   "cell_type": "code",
   "execution_count": 79,
   "id": "fb5fbbff",
   "metadata": {},
   "outputs": [
    {
     "ename": "AttributeError",
     "evalue": "'person' object has no attribute 'country'",
     "output_type": "error",
     "traceback": [
      "\u001b[0;31m---------------------------------------------------------------------------\u001b[0m",
      "\u001b[0;31mAttributeError\u001b[0m                            Traceback (most recent call last)",
      "Input \u001b[0;32mIn [79]\u001b[0m, in \u001b[0;36m<cell line: 3>\u001b[0;34m()\u001b[0m\n\u001b[1;32m      1\u001b[0m \u001b[38;5;66;03m# Try using the attribute country with the instance p1 ------> an exception appears\u001b[39;00m\n\u001b[0;32m----> 3\u001b[0m \u001b[38;5;28mprint\u001b[39m(\u001b[43mp1\u001b[49m\u001b[38;5;241;43m.\u001b[39;49m\u001b[43mcountry\u001b[49m)\n",
      "\u001b[0;31mAttributeError\u001b[0m: 'person' object has no attribute 'country'"
     ]
    }
   ],
   "source": [
    "# Try using the attribute country with the instance p1 ------> an exception appears\n",
    "\n",
    "print(p1.country)"
   ]
  },
  {
   "cell_type": "code",
   "execution_count": 80,
   "id": "36b86f85",
   "metadata": {
    "scrolled": false
   },
   "outputs": [
    {
     "ename": "AttributeError",
     "evalue": "'person' object has no attribute 'country'",
     "output_type": "error",
     "traceback": [
      "\u001b[0;31m---------------------------------------------------------------------------\u001b[0m",
      "\u001b[0;31mAttributeError\u001b[0m                            Traceback (most recent call last)",
      "Input \u001b[0;32mIn [80]\u001b[0m, in \u001b[0;36m<cell line: 3>\u001b[0;34m()\u001b[0m\n\u001b[1;32m      1\u001b[0m p3 \u001b[38;5;241m=\u001b[39m person(\u001b[38;5;124m\"\u001b[39m\u001b[38;5;124mAli\u001b[39m\u001b[38;5;124m\"\u001b[39m, \u001b[38;5;241m76\u001b[39m)\n\u001b[0;32m----> 3\u001b[0m \u001b[38;5;28mprint\u001b[39m(\u001b[43mp3\u001b[49m\u001b[38;5;241;43m.\u001b[39;49m\u001b[43mcountry\u001b[49m)\n",
      "\u001b[0;31mAttributeError\u001b[0m: 'person' object has no attribute 'country'"
     ]
    }
   ],
   "source": [
    "p3 = person(\"Ali\", 76)\n",
    "\n",
    "print(p3.country)"
   ]
  },
  {
   "cell_type": "markdown",
   "id": "cff0627c",
   "metadata": {},
   "source": [
    "### What if we make the changes to the main class itself\n",
    "- it will appear in all the instances of that class"
   ]
  },
  {
   "cell_type": "code",
   "execution_count": 84,
   "id": "d04c6f56",
   "metadata": {},
   "outputs": [],
   "source": [
    "person.gender = \"male\""
   ]
  },
  {
   "cell_type": "code",
   "execution_count": 85,
   "id": "7e556017",
   "metadata": {},
   "outputs": [
    {
     "name": "stdout",
     "output_type": "stream",
     "text": [
      "Name is : malek\n",
      "Age is : 48\n"
     ]
    }
   ],
   "source": [
    "p4 = person(\"malek\", 48)\n",
    "\n",
    "p4.display_info()"
   ]
  },
  {
   "cell_type": "code",
   "execution_count": 91,
   "id": "2555798b",
   "metadata": {},
   "outputs": [
    {
     "name": "stdout",
     "output_type": "stream",
     "text": [
      "The gender attribute will appear:     male     the attribute appears in the instance \n",
      "\n",
      "\n",
      "dict_keys(['name', 'age'])\n"
     ]
    }
   ],
   "source": [
    "print(f\"The gender attribute will appear:     {p4.gender}     the attribute appears in the instance \\n\\n\")\n",
    "\n",
    "print(p4.__dict__.keys())"
   ]
  },
  {
   "cell_type": "code",
   "execution_count": 92,
   "id": "c46e74ec",
   "metadata": {},
   "outputs": [
    {
     "name": "stdout",
     "output_type": "stream",
     "text": [
      "dict_keys(['__module__', '__init__', 'display_info', '__dict__', '__weakref__', '__doc__', 'gender'])\n"
     ]
    }
   ],
   "source": [
    "print(person.__dict__.keys())"
   ]
  },
  {
   "cell_type": "markdown",
   "id": "c790555c",
   "metadata": {},
   "source": [
    "# Operators Overloading "
   ]
  },
  {
   "cell_type": "markdown",
   "id": "c7cbd177",
   "metadata": {},
   "source": [
    "## __str__ \n",
    "_str__ is run automatically every time an instance is converted to its print string.\n",
    "\n",
    "when we print an oject as we can use __str__ to print it as we want"
   ]
  },
  {
   "cell_type": "code",
   "execution_count": 96,
   "id": "5356b114",
   "metadata": {},
   "outputs": [
    {
     "name": "stdout",
     "output_type": "stream",
     "text": [
      "Name: Ali Ibrahim \n",
      "Age: 25\n"
     ]
    }
   ],
   "source": [
    "class student:\n",
    "    def __init__(self, first_name, second_name, age):\n",
    "        self.f_name = first_name\n",
    "        self.s_name = second_name\n",
    "        self.age = age\n",
    "        \n",
    "    def display(self):\n",
    "        print (f\"Name: {self.f_name} {self.s_name} \\nAge: {self.age}\")\n",
    "        \n",
    "    def __str__(self):\n",
    "        return f\"student: f_name: {self.f_name} s_name:{self.s_name}  Age: {self.age}\\n object on being printed\"\n",
    "        \n",
    "ali = student(\"Ali\", \"Ibrahim\", 25)\n",
    "\n",
    "ali.display()"
   ]
  },
  {
   "cell_type": "code",
   "execution_count": 97,
   "id": "e1899aea",
   "metadata": {},
   "outputs": [
    {
     "name": "stdout",
     "output_type": "stream",
     "text": [
      "student: f_name: Ali s_name:Ibrahim  Age: 25\n",
      " object on being printed\n"
     ]
    }
   ],
   "source": [
    "print(ali)"
   ]
  },
  {
   "cell_type": "code",
   "execution_count": 98,
   "id": "dcd22ef5",
   "metadata": {},
   "outputs": [
    {
     "name": "stdout",
     "output_type": "stream",
     "text": [
      "student: f_name: ahmed s_name:Karim  Age: 16\n",
      " object on being printed\n"
     ]
    }
   ],
   "source": [
    "ahmed = student(\"ahmed\", \"Karim\", 16)\n",
    "\n",
    "print(ahmed)"
   ]
  },
  {
   "cell_type": "code",
   "execution_count": 100,
   "id": "d341832a",
   "metadata": {
    "scrolled": true
   },
   "outputs": [
    {
     "name": "stdout",
     "output_type": "stream",
     "text": [
      "<__main__.a object at 0x7feb286a32e0>\n"
     ]
    }
   ],
   "source": [
    "# when we print an instance without defining str function it will display the following\n",
    "print(i_a)"
   ]
  },
  {
   "cell_type": "markdown",
   "id": "1264dfb6",
   "metadata": {},
   "source": [
    "## add , sub \n"
   ]
  },
  {
   "cell_type": "code",
   "execution_count": 1,
   "id": "9f452545",
   "metadata": {},
   "outputs": [
    {
     "name": "stdout",
     "output_type": "stream",
     "text": [
      "Current value is: 5 \n",
      "\n"
     ]
    }
   ],
   "source": [
    "class Num:\n",
    "    def __init__(self, init_val):\n",
    "        self.data = init_val\n",
    "        \n",
    "    def __add__(self, new_val):\n",
    "        return Num(self.data + new_val)\n",
    "    \n",
    "    def __sub__ (self, new_val):\n",
    "        return Num(self.data - new_val)\n",
    "    \n",
    "    def display(self):\n",
    "        print(f\"Current value is: {self.data} \\n\")\n",
    "    \n",
    "num_1 = Num(5)\n",
    "num_1.display()"
   ]
  },
  {
   "cell_type": "code",
   "execution_count": 2,
   "id": "141e14ca",
   "metadata": {},
   "outputs": [
    {
     "name": "stdout",
     "output_type": "stream",
     "text": [
      "Current value is: 0 \n",
      "\n"
     ]
    }
   ],
   "source": [
    "num_2 = num_1 - 5\n",
    "num_2.display()"
   ]
  },
  {
   "cell_type": "code",
   "execution_count": 4,
   "id": "b047e39f",
   "metadata": {
    "scrolled": true
   },
   "outputs": [
    {
     "name": "stdout",
     "output_type": "stream",
     "text": [
      "Current value is: 10 \n",
      "\n"
     ]
    }
   ],
   "source": [
    "num_3 = num_2 + 10\n",
    "num_3.display()"
   ]
  },
  {
   "cell_type": "markdown",
   "id": "f0124809",
   "metadata": {},
   "source": [
    "### Indexing and Slicing: getitem & setitem"
   ]
  },
  {
   "cell_type": "markdown",
   "id": "db8913b2",
   "metadata": {},
   "source": [
    "- getitem is called with index expressions like X[] \n",
    "- It;s used for many purposes but the main idea is the same"
   ]
  },
  {
   "cell_type": "code",
   "execution_count": 7,
   "id": "599b801f",
   "metadata": {},
   "outputs": [
    {
     "name": "stdout",
     "output_type": "stream",
     "text": [
      "4\n",
      "16\n"
     ]
    }
   ],
   "source": [
    "# used to return the square of a number\n",
    "class square:\n",
    "    def __init__(self):\n",
    "        pass\n",
    "    \n",
    "    def __getitem__(self, index):\n",
    "        return index ** 2 \n",
    "    \n",
    "x = square()\n",
    "\n",
    "print(x[2])       # the function will be called when the indexing apear x[pla pla...] \n",
    "print (x[4])       # In other words x[pla pla...] will call the __getitem__ function"
   ]
  },
  {
   "cell_type": "markdown",
   "id": "1ebdf17c",
   "metadata": {},
   "source": [
    "- it can be used with slicing \n",
    "- formally speaking, built-in types handel slicing with the same way\n",
    "\n",
    "- the result of slicing a list using the built-in and using the _getitem_ dunction will give the same output \n",
    "\n",
    "- note that if we pass a single number in the [] it will retuen the item at that index \n",
    "- if we pass a slice object [start : end] it will return elements withing the specified slice"
   ]
  },
  {
   "cell_type": "code",
   "execution_count": 25,
   "id": "cd359ba6",
   "metadata": {
    "scrolled": true
   },
   "outputs": [
    {
     "name": "stdout",
     "output_type": "stream",
     "text": [
      "Using built-in:\n",
      "Item at index 0 : 5\n",
      "The sliced list is : [7, 8, 9]\n",
      "\n",
      "\n",
      "Using the defined __getitem__ function:\n",
      "Item at index 0 : 5\n",
      "The sliced list:[7, 8, 9]\n"
     ]
    }
   ],
   "source": [
    "sample_list = [5,6,7,8,9,10]\n",
    "\n",
    "class slicer:\n",
    "    def __init__(self, data):\n",
    "        self.data = data\n",
    "        \n",
    "    def __getitem__(self, index):\n",
    "        \n",
    "        return self.data[index]\n",
    "\n",
    "# using built-in\n",
    "sliced_1 = sample_list[2:5]\n",
    "\n",
    "print (f\"Using built-in:\\nItem at index 0 : {sample_list[0]}\\nThe sliced list is : {sliced_1}\\n\\n\")\n",
    "\n",
    "\n",
    "sliced_instance = slicer(sample_list)\n",
    "\n",
    "sliced_2 = sliced_instance[2:5]\n",
    "\n",
    "\n",
    "print(f\"Using the defined __getitem__ function:\\nItem at index 0 : {sliced_instance[0]}\\nThe sliced list:{sliced_2}\")"
   ]
  },
  {
   "cell_type": "markdown",
   "id": "9ba16768",
   "metadata": {},
   "source": [
    "### Index Iteration: _getitem__\n",
    "- Here’s a trick that isn’t always obvious to beginners, but turns out to be surprisingly useful.\n",
    "- The for statement works by repeatedly indexing a sequence from zero to higher indexes, until an out-of-bounds exception is detected.\n",
    "- Because of that, __getitem__ also turns out to be one way to overload iteration in Python—if this method is defined, for loops call the class’s __getitem__ each time through, with successively higher off- sets."
   ]
  },
  {
   "cell_type": "code",
   "execution_count": 32,
   "id": "4366a163",
   "metadata": {
    "scrolled": false
   },
   "outputs": [
    {
     "name": "stdout",
     "output_type": "stream",
     "text": [
      "D\n",
      "a\n",
      "t\n",
      "a\n",
      "\n",
      "what happened is that the for loop call __getitem__ many times from o to N\n",
      "\n",
      "1\n",
      "2\n",
      "3\n",
      "4\n",
      "5\n",
      "6\n",
      "7\n",
      "8\n",
      "9\n",
      "10\n"
     ]
    }
   ],
   "source": [
    "class stepper:\n",
    "    \n",
    "    def __init__ (self, data):\n",
    "        self.data = data\n",
    "    \n",
    "    def __getitem__(self, index):\n",
    "        return self.data[index]\n",
    "    \n",
    "stepper_instance_1 = stepper(\"Data\")\n",
    "stepper_instance_2 = stepper([1,2,3,4,5,6,7,8,9,10])\n",
    "\n",
    "\n",
    "for char in stepper_instance_1:\n",
    "    print(char)\n",
    "                            \n",
    "print(\"\\nwhat happened is that the for loop call __getitem__ many times from o to N\\n\")\n",
    "for item in stepper_instance_2:\n",
    "    print (item)"
   ]
  },
  {
   "cell_type": "markdown",
   "id": "c3dbac58",
   "metadata": {},
   "source": [
    "In practice, this technique can be used to create objects that provide a sequence interface and to add logic to built-in sequence type operations; we’ll revisit this idea when ex- tending built-in types in"
   ]
  },
  {
   "cell_type": "markdown",
   "id": "7109b7a0",
   "metadata": {},
   "source": [
    "## Iterator Objects \n"
   ]
  },
  {
   "cell_type": "code",
   "execution_count": null,
   "id": "d9e5eb93",
   "metadata": {},
   "outputs": [],
   "source": []
  },
  {
   "cell_type": "markdown",
   "id": "70072737",
   "metadata": {},
   "source": [
    "# Augmenting Methods\n",
    "\n",
    "- having a defined class employee as follows we want to define a class manager that inherits employee class but in give raise function the manager has a bonus of 0.10 "
   ]
  },
  {
   "cell_type": "code",
   "execution_count": 101,
   "id": "c8c1961e",
   "metadata": {},
   "outputs": [],
   "source": [
    "class emplooyee:\n",
    "    def __init__(self, name, job, pay):\n",
    "        self.name = name\n",
    "        self.job = job\n",
    "        self.pay = pay\n",
    "    \n",
    "    def giveRaise(self, percent):\n",
    "        self.pay = int(self.pay * (1 + percent))"
   ]
  },
  {
   "cell_type": "markdown",
   "id": "788d2a0e",
   "metadata": {},
   "source": [
    "## Two ways to make the desired change\n",
    "\n",
    "### The bad one\n",
    "- The bad way is to cut and paste the code of giveRaise in Person and modify it for Manager\n",
    "- The problem here is: any time you copy code with cut and paste,you essentially double your maintenance effort in the future. Think about it: becausewe copied the original version, if we ever have to change the way raises are given (and we probably will), we’ll have to change the code in two places, not one."
   ]
  },
  {
   "cell_type": "code",
   "execution_count": 102,
   "id": "8a37a29c",
   "metadata": {},
   "outputs": [],
   "source": [
    "class Manager_bad(emplooyee):\n",
    "    def giveRaise(self, percent, bonus=.10):\n",
    "        self.pay = int(self.pay * (1 + percent + bonus))"
   ]
  },
  {
   "cell_type": "code",
   "execution_count": 108,
   "id": "f94b2be2",
   "metadata": {},
   "outputs": [
    {
     "name": "stdout",
     "output_type": "stream",
     "text": [
      "13500\n"
     ]
    }
   ],
   "source": [
    "hany = Manager_bad(\"Hany\", \"Engineer\", 10000)\n",
    "\n",
    "hany.giveRaise(0.25)\n",
    "\n",
    "print(hany.pay)"
   ]
  },
  {
   "cell_type": "markdown",
   "id": "82cf8766",
   "metadata": {},
   "source": [
    "### The good way\n",
    "instead of replacing it altogether. The good way to do that in Python is by calling to the original version directly, with augmented arguments, like this:"
   ]
  },
  {
   "cell_type": "code",
   "execution_count": 103,
   "id": "1a1eea1f",
   "metadata": {},
   "outputs": [],
   "source": [
    "class Manager(Person):\n",
    "    def giveRaise(self, percent, bonus=.10):\n",
    "        Person.giveRaise(self, percent + bonus)"
   ]
  },
  {
   "cell_type": "code",
   "execution_count": 109,
   "id": "04c03476",
   "metadata": {},
   "outputs": [
    {
     "name": "stdout",
     "output_type": "stream",
     "text": [
      "13500\n"
     ]
    }
   ],
   "source": [
    "hany_2  = Manager(\"Hany\", \"Engineer\", 10000)\n",
    "hany_2.giveRaise(0.25)\n",
    "\n",
    "print(hany_2.pay)"
   ]
  },
  {
   "cell_type": "markdown",
   "id": "ecc80d73",
   "metadata": {},
   "source": [
    "# Child can customize the constructor of the father:\n",
    "\n",
    "- suppose we have a class engineer and we want to create a sub-class data_scientist in which the job role is specified automatically as DS"
   ]
  },
  {
   "cell_type": "code",
   "execution_count": 112,
   "id": "f923c72b",
   "metadata": {},
   "outputs": [
    {
     "name": "stdout",
     "output_type": "stream",
     "text": [
      "Name: ahmed\n",
      "Age: 25\n",
      "Job Role: not specified\n",
      "\n",
      "\n",
      "Name: Mohamed\n",
      "Age: 45\n",
      "Job Role: Software Eng\n",
      "\n",
      "\n"
     ]
    }
   ],
   "source": [
    "class Engineer:\n",
    "    def __init__(self, name, age, job_role= \"not specified\"):\n",
    "        self.name = name\n",
    "        self.age = age\n",
    "        self.job_role = job_role\n",
    "        \n",
    "    def display_info(self):\n",
    "        print(f\"Name: {self.name}\\nAge: {self.age}\\nJob Role: {self.job_role}\\n\\n\")\n",
    "        \n",
    "eng_1 = Engineer(\"ahmed\", 25)\n",
    "eng_2 = Engineer(\"Mohamed\", 45, \"Software Eng\")\n",
    "\n",
    "eng_1.display_info()\n",
    "\n",
    "eng_2.display_info()"
   ]
  },
  {
   "cell_type": "code",
   "execution_count": 126,
   "id": "b32e1d30",
   "metadata": {},
   "outputs": [],
   "source": [
    "class DS(Engineer):\n",
    "    def __init__(self,name, age):\n",
    "        Engineer.__init__(self,name,age,\"Data Scientist\")"
   ]
  },
  {
   "cell_type": "code",
   "execution_count": 127,
   "id": "1f9fd188",
   "metadata": {},
   "outputs": [
    {
     "name": "stdout",
     "output_type": "stream",
     "text": [
      "Name: Moaz\n",
      "Age: 21\n",
      "Job Role: Data Scientist\n",
      "\n",
      "\n"
     ]
    }
   ],
   "source": [
    "ds_eng = DS('Moaz', 21)\n",
    "ds_eng.display_info()"
   ]
  },
  {
   "cell_type": "code",
   "execution_count": null,
   "id": "2e23c60b",
   "metadata": {},
   "outputs": [],
   "source": []
  }
 ],
 "metadata": {
  "kernelspec": {
   "display_name": "Python 3 (ipykernel)",
   "language": "python",
   "name": "python3"
  },
  "language_info": {
   "codemirror_mode": {
    "name": "ipython",
    "version": 3
   },
   "file_extension": ".py",
   "mimetype": "text/x-python",
   "name": "python",
   "nbconvert_exporter": "python",
   "pygments_lexer": "ipython3",
   "version": "3.9.12"
  }
 },
 "nbformat": 4,
 "nbformat_minor": 5
}
